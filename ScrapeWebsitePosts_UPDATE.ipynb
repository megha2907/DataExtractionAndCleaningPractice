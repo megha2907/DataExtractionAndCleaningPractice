{
 "cells": [
  {
   "cell_type": "code",
   "execution_count": 1,
   "id": "bf6fe7d1",
   "metadata": {},
   "outputs": [
    {
     "name": "stdout",
     "output_type": "stream",
     "text": [
      "Requirement already satisfied: beautifulsoup4 in c:\\users\\hp user\\anaconda3\\lib\\site-packages (4.10.0)\n",
      "Requirement already satisfied: soupsieve>1.2 in c:\\users\\hp user\\anaconda3\\lib\\site-packages (from beautifulsoup4) (2.2.1)\n",
      "Requirement already satisfied: lxml in c:\\users\\hp user\\anaconda3\\lib\\site-packages (4.6.3)\n",
      "Requirement already satisfied: html5lib in c:\\users\\hp user\\anaconda3\\lib\\site-packages (1.1)\n",
      "Requirement already satisfied: webencodings in c:\\users\\hp user\\anaconda3\\lib\\site-packages (from html5lib) (0.5.1)\n",
      "Requirement already satisfied: six>=1.9 in c:\\users\\hp user\\anaconda3\\lib\\site-packages (from html5lib) (1.16.0)\n",
      "Requirement already satisfied: requests in c:\\users\\hp user\\anaconda3\\lib\\site-packages (2.26.0)\n",
      "Requirement already satisfied: certifi>=2017.4.17 in c:\\users\\hp user\\anaconda3\\lib\\site-packages (from requests) (2021.10.8)\n",
      "Requirement already satisfied: charset-normalizer~=2.0.0 in c:\\users\\hp user\\anaconda3\\lib\\site-packages (from requests) (2.0.4)\n",
      "Requirement already satisfied: urllib3<1.27,>=1.21.1 in c:\\users\\hp user\\anaconda3\\lib\\site-packages (from requests) (1.26.7)\n",
      "Requirement already satisfied: idna<4,>=2.5 in c:\\users\\hp user\\anaconda3\\lib\\site-packages (from requests) (3.2)\n"
     ]
    }
   ],
   "source": [
    "!pip install beautifulsoup4\n",
    "!pip install lxml\n",
    "!pip install html5lib\n",
    "!pip install requests"
   ]
  },
  {
   "cell_type": "code",
   "execution_count": 1,
   "id": "19841c53",
   "metadata": {},
   "outputs": [],
   "source": [
    "from bs4 import BeautifulSoup\n",
    "import requests\n",
    "import csv\n",
    "import pandas as pd"
   ]
  },
  {
   "cell_type": "code",
   "execution_count": 2,
   "id": "3b9fc50b",
   "metadata": {},
   "outputs": [],
   "source": [
    "base_url = \"https://www.thinkful.com\"\n",
    "# url1 = '/blog/what-is-data-analytics/'\n",
    "# url2 = f'{base_url}{url1}'\n",
    "# print(url2)"
   ]
  },
  {
   "cell_type": "code",
   "execution_count": 7,
   "id": "89545323",
   "metadata": {},
   "outputs": [],
   "source": [
    "source = requests.get('https://www.thinkful.com/blog/data-analytics-blogs/')\n",
    "blog = BeautifulSoup(source.content, 'lxml')\n",
    "#print(blog.prettify())"
   ]
  },
  {
   "cell_type": "code",
   "execution_count": 4,
   "id": "b5042dfc",
   "metadata": {},
   "outputs": [],
   "source": [
    "csv_file = open('scrapePost.csv', 'w')\n",
    "csv_writer = csv.writer(csv_file)\n",
    "csv_writer.writerow(['Author', 'Headline', 'Title', 'URL', 'Posts'])\n",
    "csv_file2 = open('scrapeLinks.csv', 'w')\n",
    "csv_writer2 = csv.writer(csv_file2)\n",
    "csv_writer2.writerow(['Links'])"
   ]
  },
  {
   "cell_type": "code",
   "execution_count": 8,
   "id": "dbc2e715",
   "metadata": {},
   "outputs": [],
   "source": [
    "final_list = []\n",
    "for link in blog.find('div', class_=\"row-blog-links\").find_all('div', class_=\"column-blog-links\"): # gives 2 columns\n",
    "    for lists in link.find_all('a'):\n",
    "        completelist = lists.get('href')\n",
    "        final_list.append(completelist)\n",
    "        #csv_writer2.writerow([final_list])\n",
    "        \n",
    "# Fetching the heading of the column blogs. \"Career in Data Analytics\" and \"Become a Data Analyst\" Even though its a link\n",
    "# but we dont want in the program. SUGGESTION?\n",
    "\n",
    "#final_list is the list of links of the article we need to scrape"
   ]
  },
  {
   "cell_type": "code",
   "execution_count": 5,
   "id": "b7248a14",
   "metadata": {},
   "outputs": [
    {
     "name": "stdout",
     "output_type": "stream",
     "text": [
      "The headline of the page is Must-Read Blogs for Data Analysts written By Lauren Stewart\n"
     ]
    }
   ],
   "source": [
    "headline = blog.find(class_ = 'blog-header-text').h1.text\n",
    "author = blog.find(class_ = 'blog-header-author').text\n",
    "print(f'The headline of the page is {headline} written {author}')"
   ]
  },
  {
   "cell_type": "code",
   "execution_count": 8,
   "id": "50f0d095",
   "metadata": {},
   "outputs": [],
   "source": [
    "# para = blog.find('article') \n",
    "# print(para.p.text)"
   ]
  },
  {
   "cell_type": "code",
   "execution_count": 9,
   "id": "d1d677e6",
   "metadata": {},
   "outputs": [],
   "source": [
    "# for posturl in final_list:\n",
    "#     url = f'{base_url}{base_url}'\n",
    "#     source = requests.get(url)\n",
    "#     soup = BeautifulSoup(source.content, 'lxml')\n",
    "    \n",
    "# for para in blog.find('div', class_='text').find_all('p'):\n",
    "#     headline = blog.find(class_ = 'blog-header-text').h1.text\n",
    "#     author = blog.find(class_ = 'blog-header-author').text\n",
    "#     title = blog.title.text\n",
    "#     paras = para.text\n",
    "#     print(paras)\n",
    "#     print(\"*\"*10)\n",
    "#     csv_writer.writerow([author, headline, title, paras])"
   ]
  },
  {
   "cell_type": "code",
   "execution_count": 9,
   "id": "cd2dd62d",
   "metadata": {},
   "outputs": [
    {
     "name": "stdout",
     "output_type": "stream",
     "text": [
      "https://www.thinkful.com/blog/data-analytics-career-path/\n",
      "https://www.thinkful.com/blog/what-is-data-analytics/\n",
      "https://www.thinkful.com/blog/what-does-a-data-analyst-do/\n",
      "https://www.thinkful.com/blog/average-data-analyst-salary-by-state/\n",
      "https://www.thinkful.com/blog/data-analyst-skills/\n",
      "https://www.thinkful.com/blog/entry-level-data-analyst/\n",
      "https://www.thinkful.com/blog/data-analyst-internships/\n",
      "https://www.thinkful.com/blog/data-analyst-vs-data-engineer/\n",
      "https://www.thinkful.com/blog/data-scientist-vs-data-analyst-3-major-differences/\n",
      "https://www.thinkful.com/blog/business-analytics-vs-data-analytics/\n",
      "https://www.thinkful.com/blog/how-to-become-a-data-analyst/\n",
      "https://www.thinkful.com/bootcamp/data-analytics/flexible/\n",
      "https://www.thinkful.com/blog/data-analyst-certificates/\n",
      "https://www.thinkful.com/blog/data-analytics-courses/\n",
      "https://www.thinkful.com/blog/are-data-analytics-degrees-worth-it/\n",
      "https://www.thinkful.com/blog/data-analytics-school/\n",
      "https://www.thinkful.com/blog/learn-data-analytics/\n"
     ]
    }
   ],
   "source": [
    "#SPECIFY FILEPATH\n",
    "filepath = 'C:\\\\Users\\\\Alok\\\\Documents\\\\pywebsec\\\\test.csv'\n",
    "\n",
    "for posturl in final_list:\n",
    "    url = f'{base_url}{posturl}'\n",
    "    print(url)\n",
    "    source = requests.get(url)\n",
    "    soup = BeautifulSoup(source.content, 'lxml') # iterating through all the links\n",
    "\n",
    "    #CREATE COLUMN LIST\n",
    "    cols = ['Author', 'Headline', 'Title', 'URL', 'Paras']\n",
    "    #CREATE EMPTY DATAFRAME WITH COLUMNS\n",
    "    df = pd.DataFrame(columns=cols)\n",
    "    for para in blog.find('div', class_='text').find_all('p'):\n",
    "        headline = blog.find(class_ = 'blog-header-text').h1.text\n",
    "        author = blog.find(class_ = 'blog-header-author').text\n",
    "        title = blog.title.text\n",
    "        paras = para.text\n",
    "        #print(paras)\n",
    "        #CREATE DATAFRAME ROW\n",
    "        values = [author, headline, title, url, paras]\n",
    "        #MAP COLUMN & ROWS\n",
    "        zipped = zip(cols, values)\n",
    "        #CREATE DICTIONARY\n",
    "        a_dictionary = dict(zipped)\n",
    "        #APPEND DICTIONARY TO DATAFRAME\n",
    "        df = df.append(a_dictionary, True)\n",
    "        #csv_writer.writerow([author, headline, title, url, paras])\n",
    "    #WRITE THE DATAFRAME TO CSV\n",
    "    df.to_csv(filepath, mode='a')\n",
    "       "
   ]
  },
  {
   "cell_type": "code",
   "execution_count": null,
   "id": "96a74ff3",
   "metadata": {},
   "outputs": [],
   "source": []
  }
 ],
 "metadata": {
  "kernelspec": {
   "display_name": "Python 3",
   "language": "python",
   "name": "python3"
  },
  "language_info": {
   "codemirror_mode": {
    "name": "ipython",
    "version": 3
   },
   "file_extension": ".py",
   "mimetype": "text/x-python",
   "name": "python",
   "nbconvert_exporter": "python",
   "pygments_lexer": "ipython3",
   "version": "3.8.8"
  }
 },
 "nbformat": 4,
 "nbformat_minor": 5
}
